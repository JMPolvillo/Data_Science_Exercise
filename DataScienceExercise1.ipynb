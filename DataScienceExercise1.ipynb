{
  "metadata": {
    "kernelspec": {
      "name": "python",
      "display_name": "Python (Pyodide)",
      "language": "python"
    },
    "language_info": {
      "codemirror_mode": {
        "name": "python",
        "version": 3
      },
      "file_extension": ".py",
      "mimetype": "text/x-python",
      "name": "python",
      "nbconvert_exporter": "python",
      "pygments_lexer": "ipython3",
      "version": "3.8"
    }
  },
  "nbformat_minor": 5,
  "nbformat": 4,
  "cells": [
    {
      "id": "7a92b5d8-9435-4f35-833a-0a24b33b241c",
      "cell_type": "markdown",
      "source": "# **Data Science Tools and Ecosystem**",
      "metadata": {}
    },
    {
      "id": "6046c6b2-9263-4fd6-be6b-caef3b2a15db",
      "cell_type": "markdown",
      "source": "## **Introduction**\n\nThis notebook provides an overview of the essential tools and technologies used in the field of data science. Data science is an interdisciplinary field that combines statistical analysis, machine learning, and programming to extract meaningful insights from data. Throughout this notebook, we will explore the key programming languages, libraries, and tools that form the foundation of modern data science workflows.",
      "metadata": {}
    },
    {
      "id": "8f9719d6-47e5-4875-a401-f546d6b96fbd",
      "cell_type": "markdown",
      "source": "## **Data Science Languages**\n\nThe following are some of the most popular programming languages used in data science:\n\n* Python - The most widely used language for data science, known for its simplicity and extensive ecosystem of libraries\n* R - Specifically designed for statistical computing and graphics, popular in academic and research settings\n* SQL - Essential for database querying and data manipulation in relational databases\n* Scala - Used for big data processing, particularly with Apache Spark\n* Java - Enterprise-level applications and big data frameworks\n* Julia - High-performance language for numerical and scientific computing\n* JavaScript - For web-based data visualizations and interactive dashboards",
      "metadata": {}
    },
    {
      "id": "b9b250aa-cbef-43f3-808f-0b70d3551c6c",
      "cell_type": "markdown",
      "source": "## **Data Science Libraries**\n\nHere are some of the most commonly used libraries in data science:\n\n### Python Libraries:\n\n* NumPy - Fundamental package for numerical computing with arrays\n* Pandas - Data manipulation and analysis library\n* Matplotlib - Comprehensive plotting library for creating static visualizations\n* Seaborn - Statistical data visualization built on top of Matplotlib\n* Scikit-learn - Machine learning library with simple and efficient tools\n* TensorFlow - Open-source machine learning framework developed by Google\n* PyTorch - Deep learning framework developed by Facebook\n* Keras - High-level neural networks API\n\n### R Libraries:\n\n* ggplot2 - Grammar of graphics for creating elegant data visualizations\n* dplyr - Data manipulation grammar\n* caret - Classification and regression training",
      "metadata": {}
    },
    {
      "id": "d429400a-4c1b-484a-acb6-4b9480a87c60",
      "cell_type": "markdown",
      "source": "## **Data Science Tools**\n\n| Tool | Category | Description |\n|------|----------|-------------|\n| Jupyter Notebook | Development Environment | Interactive computing environment for creating and sharing documents |\n| RStudio | Development Environment | Integrated development environment for R programming |\n| Apache Spark | Big Data Processing | Unified analytics engine for large-scale data processing |\n| Tableau | Data Visualization | Business intelligence and data visualization platform |\n| Power BI | Data Visualization | Microsoft's business analytics solution |\n| Git | Version Control | Distributed version control system for tracking changes |\n| Docker | Containerization | Platform for developing and deploying applications in containers |\n| AWS/Azure/GCP | Cloud Platforms | Cloud computing services for scalable data processing |\n\n",
      "metadata": {}
    },
    {
      "id": "f8d0e697-9562-4fb2-8d78-2d8afecfe570",
      "cell_type": "markdown",
      "source": "## **Arithmetic Expression Examples**\n\nBelow are some examples of evaluating arithmetic expressions in Python. These fundamental operations form the basis of many data science calculations and mathematical modeling techniques.",
      "metadata": {}
    },
    {
      "id": "d1611baf-322b-47a2-97cb-833e3c10a425",
      "cell_type": "code",
      "source": "# Example of multiplying and adding numbers\nresult = (3 * 4) + 5\nprint(f\"(3 * 4) + 5 = {result}\")",
      "metadata": {
        "trusted": true
      },
      "outputs": [
        {
          "name": "stdout",
          "output_type": "stream",
          "text": "(3 * 4) + 5 = 17\n"
        }
      ],
      "execution_count": 1
    },
    {
      "id": "6c339e5a-ab3a-42bc-8aa2-1f129ae5f296",
      "cell_type": "code",
      "source": "# Convert minutes to hours\nminutes = 200\nhours = minutes / 60\nprint(f\"{minutes} minutes equals {hours:.2f} hours\")",
      "metadata": {
        "trusted": true
      },
      "outputs": [
        {
          "name": "stdout",
          "output_type": "stream",
          "text": "200 minutes equals 3.33 hours\n"
        }
      ],
      "execution_count": 3
    },
    {
      "id": "751f46aa-d493-45a2-8e88-96b338a5b91c",
      "cell_type": "markdown",
      "source": "## **Objectives**\n\nThe main objectives of this notebook are to:\n\n* Identify and list popular programming languages used in data science\n* Catalog essential data science libraries and their primary functions\n* Present a comprehensive table of data science tools and their categories\n* Demonstrate basic arithmetic operations commonly used in data analysis\n* Provide practical examples of unit conversions that frequently occur in data processing\n* Create a foundation for understanding the data science ecosystem and its components",
      "metadata": {}
    },
    {
      "id": "89ee43db-a30c-473d-b062-e9d7045e8358",
      "cell_type": "markdown",
      "source": "## **Author**\n\nJosé Manuel Polvillo Núñez",
      "metadata": {}
    },
    {
      "id": "87604fb9-ae64-45aa-b0dd-f729bbe9dbc1",
      "cell_type": "markdown",
      "source": "*This notebook was created as part of the final assignment for the Data Science Tools and Ecosystem course. It demonstrates proficiency in using Jupyter notebooks, markdown formatting, and basic Python programming concepts essential for data science work.*",
      "metadata": {}
    },
    {
      "id": "e0750223-c827-4b25-9556-e8cea16520ff",
      "cell_type": "code",
      "source": "",
      "metadata": {
        "trusted": true
      },
      "outputs": [],
      "execution_count": null
    }
  ]
}